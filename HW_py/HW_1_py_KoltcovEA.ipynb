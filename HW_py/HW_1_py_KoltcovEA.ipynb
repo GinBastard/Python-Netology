{
  "nbformat": 4,
  "nbformat_minor": 0,
  "metadata": {
    "colab": {
      "provenance": []
    },
    "kernelspec": {
      "name": "python3",
      "display_name": "Python 3"
    },
    "language_info": {
      "name": "python"
    }
  },
  "cells": [
    {
      "cell_type": "markdown",
      "source": [
        "**Задание 1**\n",
        "\n",
        " *Даны 2 переменных, в которых хранятся строки произвольной длины: phrase_1 и phrase_2.\n",
        "Напишите код, который проверяет какая из этих строк длиннее.*\n"
      ],
      "metadata": {
        "id": "HdkKvCBiCq2D"
      }
    },
    {
      "cell_type": "code",
      "source": [
        "phrase_1 = 'Насколько проще было бы писать программы, если бы не заказчики'\n",
        "phrase_2 = '640Кб должно хватить для любых задач. Билл Гейтс (по легенде)'\n",
        "\n",
        "if len(phrase_1) > len(phrase_2):\n",
        "  print('Фраза 1 длиннее фразы 2')\n",
        "elif len(phrase_1) < len(phrase_2):\n",
        "  print('Фраза 2 длиннее фразы 1')\n",
        "elif len(phrase_1) == len(phrase_2):\n",
        "  print('Фразы равной длины')"
      ],
      "metadata": {
        "colab": {
          "base_uri": "https://localhost:8080/"
        },
        "id": "UR2n43TMCxTa",
        "outputId": "2ba7c780-3bfa-4fcb-c3f5-84120f259457"
      },
      "execution_count": 2,
      "outputs": [
        {
          "output_type": "stream",
          "name": "stdout",
          "text": [
            "Фраза 1 длиннее фразы 2\n"
          ]
        }
      ]
    },
    {
      "cell_type": "markdown",
      "source": [
        "**Задание 2**\n",
        "\n",
        "*Дана переменная, в которой хранится число (год). Необходимо написать программу, которая выведет, является ли данный год високосным или обычным.*"
      ],
      "metadata": {
        "id": "BiEpfLpQFVgO"
      }
    },
    {
      "cell_type": "code",
      "source": [
        "year = 2020\n",
        "\n",
        "if year == 2020:\n",
        "  print('Високосный год')\n",
        "elif year == 2019:\n",
        "   print('Обычный год')"
      ],
      "metadata": {
        "colab": {
          "base_uri": "https://localhost:8080/"
        },
        "id": "XkyIe-aMFgDB",
        "outputId": "271d4b44-7fe7-4b9e-b9fa-b0999749252d"
      },
      "execution_count": 3,
      "outputs": [
        {
          "output_type": "stream",
          "name": "stdout",
          "text": [
            "Високосный год\n"
          ]
        }
      ]
    },
    {
      "cell_type": "markdown",
      "source": [
        "**Задание 3**\n",
        "\n",
        "*Необходимо написать программу, которая будет запрашивать у пользователя месяц и дату рождения и выводить соответствующий знак зодиака.*"
      ],
      "metadata": {
        "id": "7X4BMiPkMXpd"
      }
    },
    {
      "cell_type": "code",
      "source": [
        "day = int(input('Введите день месяца '))\n",
        "month = input('Введите месяц (строчными буквами в именительном падеже)')\n",
        "\n",
        "# проверки\n",
        "if day > 31 or day < 1:\n",
        "    print('Неправильное число месяца!')\n",
        "    exit()\n",
        "elif day > 29 and month == 'февраль' or day > 30 and (month == 'апрель' or month == 'июнь' or month == 'сентябрь' or month == 'ноябрь'):\n",
        "    print('Неправильное число указанного месяца!')\n",
        "    exit()\n",
        "elif month == 'январь' or month == 'февраль' or month == 'март' or month == 'апрель' or month == 'май' or month == 'июнь' or month == 'июль' or month == 'август' or month == 'сентябрь' or month == 'октябрь' or month == 'ноябрь' or month == 'декабрь':\n",
        "    if (month == 'март' and day >= 21) or (month == 'апрель' and day <= 20):\n",
        "        print('Ваш знак зодиака: Овен')\n",
        "    elif (month == 'апрель' and day >= 21) or (month == 'май' and day <= 20):\n",
        "        print('Ваш знак зодиака: Телец')\n",
        "    elif (month == 'май' and day >= 21) or (month == 'июнь' and day <= 21):\n",
        "        print('Ваш знак зодиака: Близнецы')\n",
        "    elif (month == 'июнь' and day >= 22) or (month == 'июль' and day <= 22):\n",
        "        print('Ваш знак зодиака: Рак')\n",
        "    elif (month == 'июль' and day >= 23) or (month == 'август' and day <= 23):\n",
        "        print('Ваш знак зодиака: Лев')\n",
        "    elif (month == 'август' and day >= 24) or (month == 'сентябрь' and day <= 23):\n",
        "        print('Ваш знак зодиака: Дева')\n",
        "    elif (month == 'сентябрь' and day >= 24) or (month == 'октябрь' and day <= 23):\n",
        "        print('Ваш знак зодиака: Весы')\n",
        "    elif (month == 'октябрь' and day >= 24) or (month == 'ноябрь' and day <= 22):\n",
        "        print('Ваш знак зодиака: Скорпион')\n",
        "    elif (month == 'ноябрь' and day >= 23) or (month == 'декабрь' and day <= 21):\n",
        "        print('Ваш знак зодиака: Стрелец')\n",
        "    elif (month == 'декабрь' and day >= 22) or (month == 'январь' and day <= 20):\n",
        "        print('Ваш знак зодиака: Козерог')\n",
        "    elif (month == 'январь' and day >= 21) or (month == 'февраль' and day <= 20):\n",
        "        print('Ваш знак зодиака: Водолей')\n",
        "    elif (month == 'февраль' and day >= 21) or (month == 'март' and day <= 20):\n",
        "        print('Ваш знак зодиака: Рыбы')\n",
        "else:\n",
        "    print('Неправильно введен месяц! (нужно строчными буквами)')\n"
      ],
      "metadata": {
        "id": "p4sVfS8OMd1a",
        "colab": {
          "base_uri": "https://localhost:8080/"
        },
        "outputId": "576df304-c32f-4eef-89fb-a5e6e1595ebe"
      },
      "execution_count": 5,
      "outputs": [
        {
          "output_type": "stream",
          "name": "stdout",
          "text": [
            "Введите день месяца 23\n",
            "Введите месяц (строчными буквами в именительном падеже)ноябрь\n",
            "Ваш знак зодиака: Стрелец\n"
          ]
        }
      ]
    },
    {
      "cell_type": "markdown",
      "source": [
        "**Задание 4**\n",
        "\n",
        "*Вам нужно написать программу для подбора упаковок по размерам товара. Размеры (ширина, длина, высота) хранятся в переменных (в сантиметрах):\n",
        "Используйте следующие правила:\n",
        "если каждое из трех измерений менее или равно 15 сантиметрам, то выведите на экран \"Коробка №1\";\n",
        "если хотя бы одно из измерений больше 2 метров, то выводите \"Упаковка для лыж\";\n",
        "если хотя бы одно из измерений больше 15 сантиметров, но менее 50 сантиметров, то выводите \"Коробка №2\";\n",
        "во всех остальных случаях выводите \"Коробка №3\".*\n",
        "\n"
      ],
      "metadata": {
        "id": "1j7Zj9Vb4lMN"
      }
    },
    {
      "cell_type": "code",
      "source": [
        "width = int(input('Введите ширину в см '))\n",
        "length = int(input('Введите длину в см '))\n",
        "height = int(input('Введите высоту в см '))\n",
        "\n",
        "\n",
        "if width <= 15 and length <= 15 and height <=15:\n",
        "    print('Коробка №1')\n",
        "elif width > 200 or length > 200 or height > 200:\n",
        "    print('Упаковка для лыж')\n",
        "elif 15 < width < 50 or 15 < length < 50 or 15 < height < 50:\n",
        "    print('Коробка №2')\n",
        "else: print('Коробка №3')"
      ],
      "metadata": {
        "colab": {
          "base_uri": "https://localhost:8080/"
        },
        "id": "PbuM_WuM4srJ",
        "outputId": "7223435b-9c15-472d-b74d-cdc6edc6d9e0"
      },
      "execution_count": 6,
      "outputs": [
        {
          "output_type": "stream",
          "name": "stdout",
          "text": [
            "Введите ширину в см 15\n",
            "Введите длину в см 55\n",
            "Введите высоту в см 15\n",
            "Коробка №3\n"
          ]
        }
      ]
    },
    {
      "cell_type": "markdown",
      "source": [
        "**Задание 5**\n",
        "\n",
        "*Дана переменная, в которой хранится шестизначное число (номер проездного билета). Напишите программу, которая будет определять, является ли данный билет \"счастливым\". Билет считается счастливым, если сумма первых трех цифр совпадает с суммой последних трех цифр номера.*\n"
      ],
      "metadata": {
        "id": "b636l15X5Bwd"
      }
    },
    {
      "cell_type": "code",
      "source": [
        "number = 123456\n",
        "\n",
        "if (int(str(number)[0]) + int(str(number)[1]) +int(str(number)[2])) == (int(str(number)[3]) + int(str(number)[4]) +int(str(number)[5])):\n",
        "  print('Счастливый билет')\n",
        "else:\n",
        "  print('Несчастливый билет')\n"
      ],
      "metadata": {
        "colab": {
          "base_uri": "https://localhost:8080/"
        },
        "id": "R9PcEFCN5HDB",
        "outputId": "f7a704a3-4870-4f5d-bb66-fea363d86f02"
      },
      "execution_count": 16,
      "outputs": [
        {
          "output_type": "stream",
          "name": "stdout",
          "text": [
            "Счастливый билет\n"
          ]
        }
      ]
    },
    {
      "cell_type": "markdown",
      "source": [
        "**Задание 6**\n",
        "\n",
        " *Напишите программу, которая сможет вычислять площади трех фигур (круг, треугольник и прямоугольник). Тип фигуры запрашиваем через пользовательский ввод, после чего делаем запрос характеристик фигуры:\n",
        "если пользователь выбрал круг, запрашиваем его радиус,\n",
        "если треугольник – длины трех его сторон;\n",
        "если прямоугольник – длины двух его сторон.*\n"
      ],
      "metadata": {
        "id": "kKQJ0gZk9WxC"
      }
    },
    {
      "cell_type": "code",
      "source": [
        "figure = input('Введите название фигуры (строчные буквы) ')\n",
        "\n",
        "if figure == 'круг':\n",
        "  radius =  int(input('Введите радиус'))\n",
        "  square = 3.14 * (radius **2)\n",
        "  print('Площадь круга: ', square)\n",
        "elif figure == 'треугольник':\n",
        "  a = int(input('Введите длину стороны a '))\n",
        "  b = int(input('Введите длину стороны b '))\n",
        "  c = int(input('Введите длину стороны c '))\n",
        "  h_per = (a + b + c) / 2\n",
        "  square = round((h_per*(h_per-a)*(h_per-b)*(h_per-c)) **(0.5), 2)\n",
        "  print('Площадь треугольника: ', square)\n",
        "elif figure == 'прямоугольник':\n",
        "  a = int(input('Введите длину стороны a '))\n",
        "  b = int(input('Введите длину стороны b '))\n",
        "  square = a * b\n",
        "  print('Площадь прямоугольника: ', square)\n",
        "else: print('Вы неправильно ввели название фигуры (нужно строчными буквами: круг, треугольник или прямоугольник)')\n",
        "exit()\n",
        "\n",
        "\n"
      ],
      "metadata": {
        "colab": {
          "base_uri": "https://localhost:8080/"
        },
        "id": "x_le07ZB9g4G",
        "outputId": "0f0541ec-476e-4c9a-c73b-f90970e2c62e"
      },
      "execution_count": 2,
      "outputs": [
        {
          "output_type": "stream",
          "name": "stdout",
          "text": [
            "Введите название фигуры (строчные буквы) прямоугольник\n",
            "Введите длину стороны a 5\n",
            "Введите длину стороны b 6\n",
            "Площадь прямоугольника:  30\n"
          ]
        }
      ]
    }
  ]
}