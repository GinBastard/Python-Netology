{
  "cells": [
    {
      "cell_type": "markdown",
      "metadata": {
        "id": "DD9eYi7kJHAx"
      },
      "source": [
        "# Основы Python"
      ]
    },
    {
      "cell_type": "code",
      "execution_count": null,
      "metadata": {
        "colab": {
          "base_uri": "https://localhost:8080/"
        },
        "id": "2JUDVhj8JHA1",
        "outputId": "56e0bfed-ad29-4c47-926d-e0b374680ef3"
      },
      "outputs": [
        {
          "output_type": "execute_result",
          "data": {
            "text/plain": [
              "3"
            ]
          },
          "metadata": {},
          "execution_count": 1
        }
      ],
      "source": [
        "1 + 2"
      ]
    },
    {
      "cell_type": "markdown",
      "metadata": {
        "id": "HDyB_0CRJHA3"
      },
      "source": [
        "### Про выполнение команд\n",
        "- Shift + Enter - выполнить код в ячейке и перейти на следующую\n",
        "- Ctrl + Enter - выполнить и остаться\n",
        "\n",
        "### Немного полезностей и про markdown:\n",
        "* для автозаполнения длинных названий используйте табуляцию\n",
        "* перевести ячейку из кода в комментарии можно с помощью 'Esc + m' или просто 'm', если вы не еще не успели сделать ее активной\n",
        "* добавить новую ячейку можно аналогичным образом через 'b'\n",
        "* Jupyter понимает эти команды и в русской раскладке\n",
        "* все это можно сделать и через верхнюю панель под меню File, Edit, ...\n",
        "* список горячих клавиш Ctrl+Shift+P (Command+Shift+P для мака)"
      ]
    },
    {
      "cell_type": "code",
      "execution_count": 19,
      "metadata": {
        "id": "QEhoDqdeJHA4"
      },
      "outputs": [],
      "source": [
        "a = 1"
      ]
    },
    {
      "cell_type": "markdown",
      "metadata": {
        "id": "yUixQTS9JHA4"
      },
      "source": [
        "---\n",
        "<div class=\"alert alert-block alert-success\">\n",
        "\n",
        "## Поддержка HTML\n",
        "\n",
        "Jupyter умеет выполнять HTML-код и понимает формулы:\n",
        "\\begin{equation*}\n",
        "\\LARGE\n",
        "\\vec{a} \\dot{} \\vec{b} = |\\vec{a}| \\space |\\vec{b}| \\space cos(\\vec{a}, \\vec{b})\n",
        "\\end{equation*}\n",
        "</div>\n",
        "\n",
        "---"
      ]
    },
    {
      "cell_type": "markdown",
      "metadata": {
        "id": "DDVh2jj-JHA4"
      },
      "source": [
        "### Виджеты"
      ]
    },
    {
      "cell_type": "code",
      "execution_count": 20,
      "metadata": {
        "id": "ODDcl0lkJHA5"
      },
      "outputs": [],
      "source": [
        "from ipywidgets import IntProgress\n",
        "from IPython.display import display\n",
        "import time"
      ]
    },
    {
      "cell_type": "code",
      "execution_count": 27,
      "metadata": {
        "colab": {
          "base_uri": "https://localhost:8080/",
          "height": 49,
          "referenced_widgets": [
            "d2d2e09a7286457495ebaabeedd6c189",
            "6bbdecc36cfe466a830c1af37704e574",
            "10894baa6ddd43238122b1db3ff5459a"
          ]
        },
        "id": "b6ZA_mvnJHA5",
        "outputId": "19bbac8b-90f5-4764-8142-6da97483a8eb"
      },
      "outputs": [
        {
          "output_type": "display_data",
          "data": {
            "text/plain": [
              "IntProgress(value=0)"
            ],
            "application/vnd.jupyter.widget-view+json": {
              "version_major": 2,
              "version_minor": 0,
              "model_id": "d2d2e09a7286457495ebaabeedd6c189"
            }
          },
          "metadata": {}
        }
      ],
      "source": [
        "progress = IntProgress(min=0, max=100, value=0)\n",
        "display(progress)\n",
        "\n",
        "for i in range(100):\n",
        "    time.sleep(0.05)\n",
        "    progress.value = i"
      ]
    },
    {
      "cell_type": "markdown",
      "source": [
        "### Комментарии"
      ],
      "metadata": {
        "id": "-gSySZjuaaoP"
      }
    },
    {
      "cell_type": "code",
      "source": [
        "\"\"\"\n",
        "многострочный комментарий\n",
        "\"\"\""
      ],
      "metadata": {
        "colab": {
          "base_uri": "https://localhost:8080/",
          "height": 35
        },
        "id": "dQFWwW4SZ__L",
        "outputId": "e3fbc5e4-6645-4811-8ccd-9d1d18b6ee1d"
      },
      "execution_count": 31,
      "outputs": [
        {
          "output_type": "execute_result",
          "data": {
            "text/plain": [
              "'\\nмногострочный комментарий\\n'"
            ],
            "application/vnd.google.colaboratory.intrinsic+json": {
              "type": "string"
            }
          },
          "metadata": {},
          "execution_count": 31
        }
      ]
    },
    {
      "cell_type": "code",
      "source": [
        "# комментарий"
      ],
      "metadata": {
        "id": "QwmRFLUWaQOv"
      },
      "execution_count": 32,
      "outputs": []
    },
    {
      "cell_type": "markdown",
      "metadata": {
        "id": "hmYKWKqfJHA6"
      },
      "source": [
        "## Арифметические операции"
      ]
    },
    {
      "cell_type": "code",
      "execution_count": 52,
      "metadata": {
        "id": "bbMqaj9OJHA6",
        "outputId": "59840813-8d55-4b32-83c1-9f04a9bc5161",
        "colab": {
          "base_uri": "https://localhost:8080/",
          "height": 0
        }
      },
      "outputs": [
        {
          "output_type": "stream",
          "name": "stdout",
          "text": [
            "2\n"
          ]
        }
      ],
      "source": [
        "print(1 + 1)"
      ]
    },
    {
      "cell_type": "code",
      "execution_count": 54,
      "metadata": {
        "id": "Jx1ooGyRJHA6",
        "outputId": "eda51d07-0f84-445c-b117-4f69b2739eb2",
        "colab": {
          "base_uri": "https://localhost:8080/",
          "height": 0
        }
      },
      "outputs": [
        {
          "output_type": "stream",
          "name": "stdout",
          "text": [
            "1 11\n"
          ]
        }
      ],
      "source": [
        "print(2 - 1, 5 + 6)  # сразу несколько вычислений (операций)"
      ]
    },
    {
      "cell_type": "code",
      "execution_count": 7,
      "metadata": {
        "id": "4m2ltMDgJHA7",
        "outputId": "fe934e6e-fe8c-4cde-8c8c-dda26b3589e3",
        "colab": {
          "base_uri": "https://localhost:8080/",
          "height": 0
        }
      },
      "outputs": [
        {
          "output_type": "stream",
          "name": "stdout",
          "text": [
            "1\n"
          ]
        }
      ],
      "source": [
        "print(2-1)    # в прошлой версии 2,7 - это работало  так print 2-1"
      ]
    },
    {
      "cell_type": "code",
      "source": [
        "print 2-1  # ошибка в новых версиях"
      ],
      "metadata": {
        "colab": {
          "base_uri": "https://localhost:8080/",
          "height": 141
        },
        "id": "VaeUv549eNGn",
        "outputId": "20612b43-99e6-45be-c3c8-09854a23f881"
      },
      "execution_count": 55,
      "outputs": [
        {
          "output_type": "error",
          "ename": "SyntaxError",
          "evalue": "ignored",
          "traceback": [
            "\u001b[0;36m  File \u001b[0;32m\"<ipython-input-55-c36db090e2a9>\"\u001b[0;36m, line \u001b[0;32m1\u001b[0m\n\u001b[0;31m    print 2-1\u001b[0m\n\u001b[0m    ^\u001b[0m\n\u001b[0;31mSyntaxError\u001b[0m\u001b[0;31m:\u001b[0m Missing parentheses in call to 'print'. Did you mean print(...)?\n"
          ]
        }
      ]
    },
    {
      "cell_type": "code",
      "execution_count": 56,
      "metadata": {
        "id": "yWRMwMJJJHA7",
        "outputId": "95e6d752-025b-4073-c573-27d033193af6",
        "colab": {
          "base_uri": "https://localhost:8080/",
          "height": 0
        }
      },
      "outputs": [
        {
          "output_type": "execute_result",
          "data": {
            "text/plain": [
              "2"
            ]
          },
          "metadata": {},
          "execution_count": 56
        }
      ],
      "source": [
        "# ...\n",
        "1 + 1 # для вывода в jupyter notebook не обязательно использовать print"
      ]
    },
    {
      "cell_type": "code",
      "execution_count": 57,
      "metadata": {
        "id": "283rFwRGJHA7",
        "outputId": "23589583-f9f0-461c-f98b-f05ec3acc555",
        "colab": {
          "base_uri": "https://localhost:8080/",
          "height": 0
        }
      },
      "outputs": [
        {
          "output_type": "execute_result",
          "data": {
            "text/plain": [
              "1"
            ]
          },
          "metadata": {},
          "execution_count": 57
        }
      ],
      "source": [
        "1 + 1\n",
        "2 - 1    # без функции print будет выводится только результат последней строки\n"
      ]
    },
    {
      "cell_type": "code",
      "execution_count": 12,
      "metadata": {
        "id": "sKVeF2euJHA7",
        "outputId": "f27ea30f-b1a4-414b-8947-aa4cf839aa2c",
        "colab": {
          "base_uri": "https://localhost:8080/",
          "height": 0
        }
      },
      "outputs": [
        {
          "output_type": "stream",
          "name": "stdout",
          "text": [
            "2\n",
            "1\n"
          ]
        }
      ],
      "source": [
        "print(1 + 1)\n",
        "print(2 - 1)   # с print - выводится все как положено"
      ]
    },
    {
      "cell_type": "code",
      "source": [
        "print(1 + 1)    # jupiter и colab не игнорируют print никогда\n",
        "2 - 1           # так выведется оба варианта"
      ],
      "metadata": {
        "colab": {
          "base_uri": "https://localhost:8080/",
          "height": 0
        },
        "id": "CJfCSMmmeoKb",
        "outputId": "d39a3f74-9d73-4944-ec18-580d3b3ab681"
      },
      "execution_count": 59,
      "outputs": [
        {
          "output_type": "stream",
          "name": "stdout",
          "text": [
            "2\n"
          ]
        },
        {
          "output_type": "execute_result",
          "data": {
            "text/plain": [
              "1"
            ]
          },
          "metadata": {},
          "execution_count": 59
        }
      ]
    },
    {
      "cell_type": "code",
      "execution_count": 13,
      "metadata": {
        "id": "n4STwVa4JHA8",
        "outputId": "8cd21cff-bf0c-42b1-b862-21f7c29707f1",
        "colab": {
          "base_uri": "https://localhost:8080/",
          "height": 0
        }
      },
      "outputs": [
        {
          "output_type": "execute_result",
          "data": {
            "text/plain": [
              "30"
            ]
          },
          "metadata": {},
          "execution_count": 13
        }
      ],
      "source": [
        "5 * 6"
      ]
    },
    {
      "cell_type": "code",
      "execution_count": 60,
      "metadata": {
        "id": "a9b2Uv0bJHA8",
        "outputId": "33664a61-ea6e-4f5e-a111-e791b585b070",
        "colab": {
          "base_uri": "https://localhost:8080/"
        }
      },
      "outputs": [
        {
          "output_type": "execute_result",
          "data": {
            "text/plain": [
              "2.5"
            ]
          },
          "metadata": {},
          "execution_count": 60
        }
      ],
      "source": [
        "10 / 4    # в старой версии 2,7 - возвращает целое число (исправлено в 3 версии), т.к. два целых числа"
      ]
    },
    {
      "cell_type": "code",
      "source": [
        "float(10) / 4    # так надо было записывать в старой версии (т.е. явно указать что мы ждем дробный ответ, сделав одно из чисел дробным (float))"
      ],
      "metadata": {
        "colab": {
          "base_uri": "https://localhost:8080/"
        },
        "id": "OSGCDkKffokD",
        "outputId": "278c50a7-8fed-4aa6-caf4-e859bef61940"
      },
      "execution_count": 62,
      "outputs": [
        {
          "output_type": "execute_result",
          "data": {
            "text/plain": [
              "2.5"
            ]
          },
          "metadata": {},
          "execution_count": 62
        }
      ]
    },
    {
      "cell_type": "code",
      "execution_count": 63,
      "metadata": {
        "id": "AAO6HexCJHA8",
        "outputId": "b108850f-eb87-46be-e9d4-29b2a366798f",
        "colab": {
          "base_uri": "https://localhost:8080/"
        }
      },
      "outputs": [
        {
          "output_type": "execute_result",
          "data": {
            "text/plain": [
              "2"
            ]
          },
          "metadata": {},
          "execution_count": 63
        }
      ],
      "source": [
        "10 // 4    #   целочисленное деление"
      ]
    },
    {
      "cell_type": "code",
      "execution_count": null,
      "metadata": {
        "id": "WqvOUN9WJHA8"
      },
      "outputs": [],
      "source": [
        "10 = 4 * 2 + 2"
      ]
    },
    {
      "cell_type": "code",
      "source": [
        "2**5   # эквивалент 2*2*2*2*2\n"
      ],
      "metadata": {
        "colab": {
          "base_uri": "https://localhost:8080/"
        },
        "id": "Wsft9HcKgeyk",
        "outputId": "fcf15296-7dc1-4501-c2d1-58919f91a6a5"
      },
      "execution_count": 71,
      "outputs": [
        {
          "output_type": "execute_result",
          "data": {
            "text/plain": [
              "32"
            ]
          },
          "metadata": {},
          "execution_count": 71
        }
      ]
    },
    {
      "cell_type": "code",
      "execution_count": 69,
      "metadata": {
        "id": "W7uy59b1JHA8",
        "outputId": "2bfd3eef-c446-4516-c638-ad682f940aa4",
        "colab": {
          "base_uri": "https://localhost:8080/"
        }
      },
      "outputs": [
        {
          "output_type": "execute_result",
          "data": {
            "text/plain": [
              "32"
            ]
          },
          "metadata": {},
          "execution_count": 69
        }
      ],
      "source": [
        "2*2*2*2*2"
      ]
    },
    {
      "cell_type": "code",
      "execution_count": 70,
      "metadata": {
        "id": "vTKqMLgJJHA8",
        "outputId": "f9068a14-5c7e-49df-cef0-cf5d025387c7",
        "colab": {
          "base_uri": "https://localhost:8080/"
        }
      },
      "outputs": [
        {
          "output_type": "execute_result",
          "data": {
            "text/plain": [
              "1267650600228229401496703205376"
            ]
          },
          "metadata": {},
          "execution_count": 70
        }
      ],
      "source": [
        "2 ** 100    # возведение в степень = 2 в степень 100"
      ]
    },
    {
      "cell_type": "code",
      "execution_count": 43,
      "metadata": {
        "scrolled": false,
        "id": "h0xzpMHmJHA9",
        "outputId": "b5be226d-5afc-4730-8dd3-34b42e0476eb",
        "colab": {
          "base_uri": "https://localhost:8080/",
          "height": 0
        }
      },
      "outputs": [
        {
          "output_type": "execute_result",
          "data": {
            "text/plain": [
              "-25"
            ]
          },
          "metadata": {},
          "execution_count": 43
        }
      ],
      "source": [
        "5 - (3 + 2) * 6   # операция в скобках выполняется в первую очередь"
      ]
    },
    {
      "cell_type": "code",
      "source": [
        "4 % 3  # взятие остатка от деления -   4/3=1 + остаток 1 = 1"
      ],
      "metadata": {
        "colab": {
          "base_uri": "https://localhost:8080/"
        },
        "id": "StA-fpxpcStz",
        "outputId": "5ba31923-e56f-4f7c-dd8d-8926cd45b207"
      },
      "execution_count": 72,
      "outputs": [
        {
          "output_type": "execute_result",
          "data": {
            "text/plain": [
              "1"
            ]
          },
          "metadata": {},
          "execution_count": 72
        }
      ]
    },
    {
      "cell_type": "code",
      "execution_count": 74,
      "metadata": {
        "id": "YrnWYF5FJHA9",
        "colab": {
          "base_uri": "https://localhost:8080/"
        },
        "outputId": "0dae566f-c036-4248-a037-e003fa685ddf"
      },
      "outputs": [
        {
          "output_type": "execute_result",
          "data": {
            "text/plain": [
              "2"
            ]
          },
          "metadata": {},
          "execution_count": 74
        }
      ],
      "source": [
        "-4 % 3  # взятие остатка от деления   -4/3=-1  ???? так ведет себя python с делением от остатка отрицательного числа"
      ]
    },
    {
      "cell_type": "markdown",
      "metadata": {
        "id": "etAeZEw2JHA9"
      },
      "source": [
        "## Переменные"
      ]
    },
    {
      "cell_type": "code",
      "execution_count": 87,
      "metadata": {
        "id": "Wi6EX7IuJHA9",
        "outputId": "0e334d7e-891d-4069-abfb-79ebca439681",
        "colab": {
          "base_uri": "https://localhost:8080/"
        }
      },
      "outputs": [
        {
          "output_type": "stream",
          "name": "stdout",
          "text": [
            "Ответ:  30 900 0.03333333333333333\n"
          ]
        },
        {
          "output_type": "execute_result",
          "data": {
            "text/plain": [
              "('Ответ: ', 30, 900, 0.03333333333333333)"
            ]
          },
          "metadata": {},
          "execution_count": 87
        }
      ],
      "source": [
        "a = 10 + 20\n",
        "b = a * 30\n",
        "c = a / b\n",
        "print('Ответ: ', a, b, c)\n",
        "'Ответ: ', a, b, c      # без print такая строка будет воспринята как кортеж"
      ]
    },
    {
      "cell_type": "code",
      "execution_count": 80,
      "metadata": {
        "id": "U0o3IG5uJHA9",
        "outputId": "90998486-6e77-441b-b8ef-6a7c809ab4e4",
        "colab": {
          "base_uri": "https://localhost:8080/"
        }
      },
      "outputs": [
        {
          "output_type": "execute_result",
          "data": {
            "text/plain": [
              "900"
            ]
          },
          "metadata": {},
          "execution_count": 80
        }
      ],
      "source": [
        "b        # сохраняется значение пока действуеь программа"
      ]
    },
    {
      "cell_type": "code",
      "source": [
        "p = 1000\n",
        "c = 5\n",
        "# переменные могут означать что угодно - просто буквы или сочетания букв - ни о чем не говорят\n",
        "\n",
        "rows_per_page = 1000\n",
        "pages_count = 5\n",
        "# когда прееменные имеют осмысленное название - легче разобраться в коде потом\n",
        "\n",
        "# snake_case - стиль написания перееменных - чаще всего используется в python\n",
        "# CamelCase - стиль используется чаще всего в названии классов\n",
        "\n",
        "  # Snake и snake - разные переменные\n"
      ],
      "metadata": {
        "id": "oJdd3RWjo3rk"
      },
      "execution_count": 82,
      "outputs": []
    },
    {
      "cell_type": "markdown",
      "metadata": {
        "id": "6fPiNKHwJHA9"
      },
      "source": [
        "Переменная должна объявляться до того, как использоваться"
      ]
    },
    {
      "cell_type": "code",
      "execution_count": 88,
      "metadata": {
        "scrolled": true,
        "id": "ElsqMBD1JHA9",
        "outputId": "81183650-3ca1-469c-df24-d5270574662b",
        "colab": {
          "base_uri": "https://localhost:8080/"
        }
      },
      "outputs": [
        {
          "output_type": "stream",
          "name": "stdout",
          "text": [
            "10\n"
          ]
        }
      ],
      "source": [
        "x = 10\n",
        "print(x)\n"
      ]
    },
    {
      "cell_type": "code",
      "source": [
        "print(y)     # если переменная не обьявлена и уже используется - будет ошибка\n",
        "y = 5"
      ],
      "metadata": {
        "id": "0ctMcrZVrKhN"
      },
      "execution_count": null,
      "outputs": []
    },
    {
      "cell_type": "markdown",
      "metadata": {
        "id": "oL22yF4QJHA-"
      },
      "source": [
        "## Строки"
      ]
    },
    {
      "cell_type": "code",
      "execution_count": 95,
      "metadata": {
        "id": "zCO75Vw-JHA-"
      },
      "outputs": [],
      "source": [
        "my_string_1 = 'He said: \"Hello\"'   # кавычки можно использовать РАЗНЫЕ внутри друг друга"
      ]
    },
    {
      "cell_type": "code",
      "execution_count": 96,
      "metadata": {
        "id": "tBOVNSBdJHA-"
      },
      "outputs": [],
      "source": [
        "my_string_2 = \"Hello \\\"World!\"     # \\n  экранирование \" - будет отображаться как кавычка в виде текста"
      ]
    },
    {
      "cell_type": "code",
      "execution_count": 97,
      "metadata": {
        "id": "E8GcP6vHJHA-",
        "outputId": "c9623ea3-6633-401b-bb6c-d4ec04748e55",
        "colab": {
          "base_uri": "https://localhost:8080/",
          "height": 35
        }
      },
      "outputs": [
        {
          "output_type": "execute_result",
          "data": {
            "text/plain": [
              "'He said: \"Hello\"'"
            ],
            "application/vnd.google.colaboratory.intrinsic+json": {
              "type": "string"
            }
          },
          "metadata": {},
          "execution_count": 97
        }
      ],
      "source": [
        "my_string_1"
      ]
    },
    {
      "cell_type": "code",
      "source": [
        "my_string_2\n"
      ],
      "metadata": {
        "colab": {
          "base_uri": "https://localhost:8080/",
          "height": 35
        },
        "id": "LhAM4X7tsQff",
        "outputId": "4101ccc0-c675-4303-e833-7901c29bf6aa"
      },
      "execution_count": 98,
      "outputs": [
        {
          "output_type": "execute_result",
          "data": {
            "text/plain": [
              "'Hello \"World!'"
            ],
            "application/vnd.google.colaboratory.intrinsic+json": {
              "type": "string"
            }
          },
          "metadata": {},
          "execution_count": 98
        }
      ]
    },
    {
      "cell_type": "markdown",
      "metadata": {
        "id": "BFAAkkyEJHA-"
      },
      "source": [
        "## Операторы сравнения"
      ]
    },
    {
      "cell_type": "code",
      "execution_count": 100,
      "metadata": {
        "id": "cFwi7lRKJHA-",
        "outputId": "a685cef3-ab5c-483f-fc1b-d779ad40e18a",
        "colab": {
          "base_uri": "https://localhost:8080/"
        }
      },
      "outputs": [
        {
          "output_type": "execute_result",
          "data": {
            "text/plain": [
              "True"
            ]
          },
          "metadata": {},
          "execution_count": 100
        }
      ],
      "source": [
        "2 > 1"
      ]
    },
    {
      "cell_type": "code",
      "execution_count": 101,
      "metadata": {
        "id": "k5d6G-BuJHA-",
        "outputId": "0e58684b-9cc3-47c5-85f8-c5cb5696ba1e",
        "colab": {
          "base_uri": "https://localhost:8080/"
        }
      },
      "outputs": [
        {
          "output_type": "execute_result",
          "data": {
            "text/plain": [
              "False"
            ]
          },
          "metadata": {},
          "execution_count": 101
        }
      ],
      "source": [
        "10 < 9"
      ]
    },
    {
      "cell_type": "code",
      "execution_count": 112,
      "metadata": {
        "id": "UPycb38bJHA_",
        "outputId": "fdfbb3bf-ecc6-4011-e142-55e45519e3af",
        "colab": {
          "base_uri": "https://localhost:8080/"
        }
      },
      "outputs": [
        {
          "output_type": "execute_result",
          "data": {
            "text/plain": [
              "False"
            ]
          },
          "metadata": {},
          "execution_count": 112
        }
      ],
      "source": [
        "10 > 10    # число не может быть больше самого себя = false"
      ]
    },
    {
      "cell_type": "code",
      "execution_count": 103,
      "metadata": {
        "id": "11dcc2X_JHA_",
        "outputId": "54d6b392-a4f1-481e-f2d2-1c5774e4d775",
        "colab": {
          "base_uri": "https://localhost:8080/"
        }
      },
      "outputs": [
        {
          "output_type": "execute_result",
          "data": {
            "text/plain": [
              "True"
            ]
          },
          "metadata": {},
          "execution_count": 103
        }
      ],
      "source": [
        "10 >= 10"
      ]
    },
    {
      "cell_type": "code",
      "execution_count": 106,
      "metadata": {
        "id": "kpVFcXhUJHA_",
        "outputId": "1e8e531d-cdbd-4444-b22c-7b382e7440d7",
        "colab": {
          "base_uri": "https://localhost:8080/"
        }
      },
      "outputs": [
        {
          "output_type": "execute_result",
          "data": {
            "text/plain": [
              "True"
            ]
          },
          "metadata": {},
          "execution_count": 106
        }
      ],
      "source": [
        "7 == 7    #     просто = - это присваивание значения,   двойное == - это сравнение (ны выходе true или false)"
      ]
    },
    {
      "cell_type": "code",
      "execution_count": 113,
      "metadata": {
        "id": "8yJoFv3SJHA_"
      },
      "outputs": [],
      "source": [
        "a = 1   # это присвоение значения"
      ]
    },
    {
      "cell_type": "code",
      "execution_count": 117,
      "metadata": {
        "id": "iNpWpRNzJHBA",
        "outputId": "64c2fc30-a5b5-4a07-8638-97e45857c284",
        "colab": {
          "base_uri": "https://localhost:8080/"
        }
      },
      "outputs": [
        {
          "output_type": "execute_result",
          "data": {
            "text/plain": [
              "True"
            ]
          },
          "metadata": {},
          "execution_count": 117
        }
      ],
      "source": [
        "a == 1  # это означает a равно 1 = false"
      ]
    },
    {
      "cell_type": "code",
      "execution_count": null,
      "metadata": {
        "id": "BYcld5ONJHBA"
      },
      "outputs": [],
      "source": [
        "<>  # это не используется в Python   - НЕ РАВНО"
      ]
    },
    {
      "cell_type": "code",
      "execution_count": 116,
      "metadata": {
        "id": "N0gDOFS2JHBB",
        "outputId": "a3b6e622-66c3-4fbc-c1ed-4865a73efbd6",
        "colab": {
          "base_uri": "https://localhost:8080/"
        }
      },
      "outputs": [
        {
          "output_type": "execute_result",
          "data": {
            "text/plain": [
              "False"
            ]
          },
          "metadata": {},
          "execution_count": 116
        }
      ],
      "source": [
        "15 != 15    # такая запись используется чаще - НЕ РАВНО"
      ]
    },
    {
      "cell_type": "code",
      "execution_count": 118,
      "metadata": {
        "id": "R4g1wDVRJHBB",
        "outputId": "a6f00ab8-2c2b-4ef8-e39e-fec100238118",
        "colab": {
          "base_uri": "https://localhost:8080/"
        }
      },
      "outputs": [
        {
          "output_type": "execute_result",
          "data": {
            "text/plain": [
              "False"
            ]
          },
          "metadata": {},
          "execution_count": 118
        }
      ],
      "source": [
        "5 > 4 < 0     # можно сразу несколько чисел сравнивать =   5 больше 4 но 4 меньше 0  = true + false = false"
      ]
    },
    {
      "cell_type": "code",
      "source": [
        "5 > 4 < 10     # 5 больше 4 но 4 меньше 10  = true + true = true"
      ],
      "metadata": {
        "colab": {
          "base_uri": "https://localhost:8080/"
        },
        "id": "oA4LTtSwvftX",
        "outputId": "66deacbe-fb26-4d2c-ff60-4bbb59d12a70"
      },
      "execution_count": 119,
      "outputs": [
        {
          "output_type": "execute_result",
          "data": {
            "text/plain": [
              "True"
            ]
          },
          "metadata": {},
          "execution_count": 119
        }
      ]
    },
    {
      "cell_type": "code",
      "execution_count": 127,
      "metadata": {
        "id": "KZKXp2QWJHBB",
        "outputId": "0606ce86-cb48-42c7-950b-be993d24057f",
        "colab": {
          "base_uri": "https://localhost:8080/"
        }
      },
      "outputs": [
        {
          "output_type": "stream",
          "name": "stdout",
          "text": [
            "True\n"
          ]
        }
      ],
      "source": [
        "# сравнение строк\n",
        "print('c' > 'a')     # сравнение по алфавиту   c больше a  = true - сравниваем символы!"
      ]
    },
    {
      "cell_type": "code",
      "execution_count": 125,
      "metadata": {
        "id": "N7wqCnxhJHBB",
        "outputId": "53793617-a83f-4094-de97-ff4670670d39",
        "colab": {
          "base_uri": "https://localhost:8080/"
        }
      },
      "outputs": [
        {
          "output_type": "stream",
          "name": "stdout",
          "text": [
            "True\n"
          ]
        }
      ],
      "source": [
        "print('b' > 'B')     # строчная b больше заглавной B по правилам"
      ]
    },
    {
      "cell_type": "code",
      "execution_count": 126,
      "metadata": {
        "id": "ArCKDsBsJHBB",
        "outputId": "28761513-7fdd-45e9-a2ff-b2ca3088266e",
        "colab": {
          "base_uri": "https://localhost:8080/"
        }
      },
      "outputs": [
        {
          "output_type": "stream",
          "name": "stdout",
          "text": [
            "True\n"
          ]
        }
      ],
      "source": [
        "print('abc' > 'aba')   # левая часть стоит по алфавиту дальше, поэтому больше (из-за c, которая больше a)"
      ]
    },
    {
      "cell_type": "code",
      "execution_count": 129,
      "metadata": {
        "id": "9swgK77mJHBC",
        "outputId": "cf3cea0f-abb5-46b7-d95e-f66c94e9fc84",
        "colab": {
          "base_uri": "https://localhost:8080/"
        }
      },
      "outputs": [
        {
          "output_type": "execute_result",
          "data": {
            "text/plain": [
              "False"
            ]
          },
          "metadata": {},
          "execution_count": 129
        }
      ],
      "source": [
        "len('abc') > len('dfhjdfj')    # len - кол-во символов в строке - во второй части символов больше = false"
      ]
    },
    {
      "cell_type": "markdown",
      "metadata": {
        "id": "oWUpjWd-JHBC"
      },
      "source": [
        "## Условные конструкции"
      ]
    },
    {
      "cell_type": "code",
      "execution_count": 140,
      "metadata": {
        "id": "L3YPsOiyJHBC",
        "colab": {
          "base_uri": "https://localhost:8080/"
        },
        "outputId": "5f0e312e-5c64-4076-caa6-2b91d7d809e5"
      },
      "outputs": [
        {
          "output_type": "stream",
          "name": "stdout",
          "text": [
            "Значение переменной a меньше b\n"
          ]
        }
      ],
      "source": [
        "a = 1\n",
        "b = 2\n",
        "\n",
        "if a < b:\n",
        "    print('Значение переменной a меньше b')\n",
        "else: print('нет')"
      ]
    },
    {
      "cell_type": "code",
      "execution_count": 144,
      "metadata": {
        "id": "TeKxv2kbJHBC",
        "colab": {
          "base_uri": "https://localhost:8080/"
        },
        "outputId": "c9d9f7a6-04a8-4fd5-c38f-897e687f09bf"
      },
      "outputs": [
        {
          "output_type": "stream",
          "name": "stdout",
          "text": [
            "6 - четное число\n"
          ]
        }
      ],
      "source": [
        "# проверка четности числа\n",
        "x = 6\n",
        "if x % 2 == 0:\n",
        "    print(x, '- четное число')"
      ]
    },
    {
      "cell_type": "code",
      "execution_count": 145,
      "metadata": {
        "id": "WeZ80bcIJHBC",
        "colab": {
          "base_uri": "https://localhost:8080/"
        },
        "outputId": "0ac38dcf-1453-4878-a60a-0f1ee14c72d1"
      },
      "outputs": [
        {
          "output_type": "stream",
          "name": "stdout",
          "text": [
            "5 - нечетное число\n"
          ]
        }
      ],
      "source": [
        "x = 5\n",
        "if x % 2 == 0:\n",
        "    print(x, '- четное число')\n",
        "else:\n",
        "    print(x, '- нечетное число')"
      ]
    },
    {
      "cell_type": "markdown",
      "source": [
        "Если записывать в названии файла даты в привычном формате 25-12-2020, то файлы будут идти в алфавитном порядке, что не будет соответствовать их календарному порядку, поэтому часто используют формат 2020-12-25"
      ],
      "metadata": {
        "id": "7aoc1gbAyBCv"
      }
    },
    {
      "cell_type": "code",
      "execution_count": 131,
      "metadata": {
        "id": "y3go-uD5JHBC",
        "colab": {
          "base_uri": "https://localhost:8080/"
        },
        "outputId": "e8e99d85-f58e-4a05-af8b-ee66fdcb2004"
      },
      "outputs": [
        {
          "output_type": "execute_result",
          "data": {
            "text/plain": [
              "True"
            ]
          },
          "metadata": {},
          "execution_count": 131
        }
      ],
      "source": [
        "'2020-05-01' < '2020-05-09'    # 01 мая 2020     меньше чем    09 мая 2020"
      ]
    },
    {
      "cell_type": "code",
      "execution_count": 133,
      "metadata": {
        "id": "kPTHrTwXJHBC",
        "colab": {
          "base_uri": "https://localhost:8080/"
        },
        "outputId": "c0556340-a576-4956-b9f5-deb6d7dea450"
      },
      "outputs": [
        {
          "output_type": "execute_result",
          "data": {
            "text/plain": [
              "True"
            ]
          },
          "metadata": {},
          "execution_count": 133
        }
      ],
      "source": [
        "'2019-12-31' < '2020-01-01'    # 31 декабря 2019    меньше чем    01 января 2020"
      ]
    },
    {
      "cell_type": "code",
      "execution_count": 134,
      "metadata": {
        "id": "jwB2lQnjJHBD",
        "colab": {
          "base_uri": "https://localhost:8080/"
        },
        "outputId": "51125a03-f3d5-4e76-b2ca-e47c3f4d72a2"
      },
      "outputs": [
        {
          "output_type": "execute_result",
          "data": {
            "text/plain": [
              "True"
            ]
          },
          "metadata": {},
          "execution_count": 134
        }
      ],
      "source": [
        "'logs_2020-02-29.csv' < 'logs_2020-03-01.csv'   #  логи 29 февраля 2020    меньше   логов за 01 марта 2020\n",
        "#  удобно"
      ]
    },
    {
      "cell_type": "markdown",
      "metadata": {
        "id": "3Qw0eVQVJHBD"
      },
      "source": [
        "# Пишем программу для определения куда направить призывника"
      ]
    },
    {
      "cell_type": "code",
      "execution_count": 153,
      "metadata": {
        "id": "5Chc-byEJHBD",
        "outputId": "5d1ee9c9-41e6-4ce0-de10-d7e9b275e389",
        "colab": {
          "base_uri": "https://localhost:8080/"
        }
      },
      "outputs": [
        {
          "output_type": "stream",
          "name": "stdout",
          "text": [
            "Конец программы\n"
          ]
        }
      ],
      "source": [
        "height = 180\n",
        "if height < 170:\n",
        "    print('В танкисты')\n",
        "\n",
        "print('Конец программы')"
      ]
    },
    {
      "cell_type": "code",
      "execution_count": 159,
      "metadata": {
        "id": "xKr0cRHyJHBD",
        "outputId": "423363d0-0da5-4ffd-a111-f2e8df37af1f",
        "colab": {
          "base_uri": "https://localhost:8080/"
        }
      },
      "outputs": [
        {
          "output_type": "stream",
          "name": "stdout",
          "text": [
            "В другие войска\n",
            "Конец программы\n"
          ]
        }
      ],
      "source": [
        "if height < 170:\n",
        "    print('В танкисты')\n",
        "else:\n",
        "    print('В другие войска')\n",
        "print('Конец программы')"
      ]
    },
    {
      "cell_type": "code",
      "execution_count": 160,
      "metadata": {
        "id": "JJZd01qqJHBD",
        "outputId": "7aee2ae3-1075-43ec-8376-a16c1798bd91",
        "colab": {
          "base_uri": "https://localhost:8080/"
        }
      },
      "outputs": [
        {
          "output_type": "stream",
          "name": "stdout",
          "text": [
            "В другие войска\n",
            "Конец программы\n"
          ]
        }
      ],
      "source": [
        "# условия выполняются по порядку, как только одно выполнено - проверки останавливаются\n",
        "height = 210\n",
        "if height < 170:\n",
        "    print('В танкисты')\n",
        "elif height < 200:\n",
        "    print('В десантники')\n",
        "else:\n",
        "    print('В другие войска')\n",
        "print('Конец программы')"
      ]
    },
    {
      "cell_type": "code",
      "execution_count": 161,
      "metadata": {
        "id": "lHbCOc5UJHBE",
        "outputId": "017f73ae-7630-4e7f-d052-12ece7a726d5",
        "colab": {
          "base_uri": "https://localhost:8080/"
        }
      },
      "outputs": [
        {
          "output_type": "stream",
          "name": "stdout",
          "text": [
            "В другие войска\n",
            "Конец программы\n"
          ]
        }
      ],
      "source": [
        "# блоков elif может быть хоть сколько\n",
        "height = 210\n",
        "if height < 170:\n",
        "    print('В танкисты')\n",
        "elif height < 180:\n",
        "    print('На флот')\n",
        "elif height < 200:\n",
        "    print('В десантники')\n",
        "else:\n",
        "    print('В другие войска')\n",
        "print('Конец программы')"
      ]
    },
    {
      "cell_type": "markdown",
      "metadata": {
        "id": "zVFjTUHGJHBE"
      },
      "source": [
        "## Логические операторы and и or"
      ]
    },
    {
      "cell_type": "code",
      "execution_count": 162,
      "metadata": {
        "id": "R0V4L3k3JHBE",
        "colab": {
          "base_uri": "https://localhost:8080/"
        },
        "outputId": "17fffc97-547c-4201-e8bb-90c35326e81e"
      },
      "outputs": [
        {
          "output_type": "execute_result",
          "data": {
            "text/plain": [
              "True"
            ]
          },
          "metadata": {},
          "execution_count": 162
        }
      ],
      "source": [
        "True and True"
      ]
    },
    {
      "cell_type": "code",
      "execution_count": 163,
      "metadata": {
        "id": "BoFYsh2UJHBE",
        "colab": {
          "base_uri": "https://localhost:8080/"
        },
        "outputId": "fa7c7c65-fdde-48b7-e479-b96fb43ae5fe"
      },
      "outputs": [
        {
          "output_type": "execute_result",
          "data": {
            "text/plain": [
              "False"
            ]
          },
          "metadata": {},
          "execution_count": 163
        }
      ],
      "source": [
        "True and False"
      ]
    },
    {
      "cell_type": "code",
      "execution_count": 164,
      "metadata": {
        "id": "Bzpnddq5JHBE",
        "colab": {
          "base_uri": "https://localhost:8080/"
        },
        "outputId": "053e751e-fd78-408c-8ab7-85df40fb43c3"
      },
      "outputs": [
        {
          "output_type": "execute_result",
          "data": {
            "text/plain": [
              "True"
            ]
          },
          "metadata": {},
          "execution_count": 164
        }
      ],
      "source": [
        "True or False"
      ]
    },
    {
      "cell_type": "code",
      "execution_count": 165,
      "metadata": {
        "id": "6fdNosMxJHBE",
        "colab": {
          "base_uri": "https://localhost:8080/"
        },
        "outputId": "6ca9902b-eaca-479f-e5c0-d0c7436f310c"
      },
      "outputs": [
        {
          "output_type": "execute_result",
          "data": {
            "text/plain": [
              "False"
            ]
          },
          "metadata": {},
          "execution_count": 165
        }
      ],
      "source": [
        "not True"
      ]
    },
    {
      "cell_type": "code",
      "execution_count": null,
      "metadata": {
        "id": "uYGdb6H2JHBE",
        "outputId": "08878ce5-1736-4e3a-8a71-41359c11b7dc"
      },
      "outputs": [
        {
          "data": {
            "text/plain": [
              "True"
            ]
          },
          "execution_count": 54,
          "metadata": {},
          "output_type": "execute_result"
        }
      ],
      "source": [
        "((9 > 7) and (2 < 4))"
      ]
    },
    {
      "cell_type": "code",
      "execution_count": null,
      "metadata": {
        "id": "M7IW7PBYJHBF"
      },
      "outputs": [],
      "source": [
        "(8 == 8) or (6 != 6)"
      ]
    },
    {
      "cell_type": "code",
      "execution_count": null,
      "metadata": {
        "id": "AcULP2cxJHBF"
      },
      "outputs": [],
      "source": [
        "not(3 <= 1)"
      ]
    },
    {
      "cell_type": "code",
      "execution_count": 170,
      "metadata": {
        "id": "Ji7Ka_JmJHBF",
        "outputId": "2408f7c1-d713-44ee-ae20-cc58003ce8f9",
        "colab": {
          "base_uri": "https://localhost:8080/"
        }
      },
      "outputs": [
        {
          "output_type": "stream",
          "name": "stdout",
          "text": [
            "В другие войска\n",
            "Конец программы\n"
          ]
        }
      ],
      "source": [
        "age = 15\n",
        "height = 180\n",
        "\n",
        "if height < 170 and age >= 18:\n",
        "    print('В танкисты')\n",
        "elif height < 185 and age >= 18:\n",
        "    print('На флот')\n",
        "elif height < 200 and age >= 18:\n",
        "    print('В десантники')\n",
        "else:\n",
        "    print('В другие войска')\n",
        "print('Конец программы')"
      ]
    },
    {
      "cell_type": "code",
      "execution_count": 171,
      "metadata": {
        "id": "B186bgmbJHBF",
        "outputId": "2162c08a-d115-4872-9473-6a116a0d86cf",
        "colab": {
          "base_uri": "https://localhost:8080/"
        }
      },
      "outputs": [
        {
          "output_type": "stream",
          "name": "stdout",
          "text": [
            "Введите возраст 25\n",
            "Введите рост 369\n",
            "В другие войска\n",
            "Конец программы\n"
          ]
        }
      ],
      "source": [
        "# age = 21\n",
        "age = int(input('Введите возраст '))\n",
        "if age >= 18:\n",
        "    user_input = int(input('Введите рост '))\n",
        "    if user_input < 170:\n",
        "        print('В танкисты')\n",
        "    elif user_input < 185:\n",
        "        print('На флот')\n",
        "    elif user_input < 200:\n",
        "        print('В десантники')\n",
        "    else:\n",
        "        print('В другие войска')\n",
        "else:\n",
        "    print('Непризывной возраст')\n",
        "print('Конец программы')"
      ]
    }
  ],
  "metadata": {
    "kernelspec": {
      "display_name": "Python 3",
      "language": "python",
      "name": "python3"
    },
    "language_info": {
      "codemirror_mode": {
        "name": "ipython",
        "version": 3
      },
      "file_extension": ".py",
      "mimetype": "text/x-python",
      "name": "python",
      "nbconvert_exporter": "python",
      "pygments_lexer": "ipython3",
      "version": "3.7.0"
    },
    "colab": {
      "provenance": []
    },
    "widgets": {
      "application/vnd.jupyter.widget-state+json": {
        "d2d2e09a7286457495ebaabeedd6c189": {
          "model_module": "@jupyter-widgets/controls",
          "model_name": "IntProgressModel",
          "model_module_version": "1.5.0",
          "state": {
            "_dom_classes": [],
            "_model_module": "@jupyter-widgets/controls",
            "_model_module_version": "1.5.0",
            "_model_name": "IntProgressModel",
            "_view_count": null,
            "_view_module": "@jupyter-widgets/controls",
            "_view_module_version": "1.5.0",
            "_view_name": "ProgressView",
            "bar_style": "",
            "description": "",
            "description_tooltip": null,
            "layout": "IPY_MODEL_6bbdecc36cfe466a830c1af37704e574",
            "max": 100,
            "min": 0,
            "orientation": "horizontal",
            "style": "IPY_MODEL_10894baa6ddd43238122b1db3ff5459a",
            "value": 99
          }
        },
        "6bbdecc36cfe466a830c1af37704e574": {
          "model_module": "@jupyter-widgets/base",
          "model_name": "LayoutModel",
          "model_module_version": "1.2.0",
          "state": {
            "_model_module": "@jupyter-widgets/base",
            "_model_module_version": "1.2.0",
            "_model_name": "LayoutModel",
            "_view_count": null,
            "_view_module": "@jupyter-widgets/base",
            "_view_module_version": "1.2.0",
            "_view_name": "LayoutView",
            "align_content": null,
            "align_items": null,
            "align_self": null,
            "border": null,
            "bottom": null,
            "display": null,
            "flex": null,
            "flex_flow": null,
            "grid_area": null,
            "grid_auto_columns": null,
            "grid_auto_flow": null,
            "grid_auto_rows": null,
            "grid_column": null,
            "grid_gap": null,
            "grid_row": null,
            "grid_template_areas": null,
            "grid_template_columns": null,
            "grid_template_rows": null,
            "height": null,
            "justify_content": null,
            "justify_items": null,
            "left": null,
            "margin": null,
            "max_height": null,
            "max_width": null,
            "min_height": null,
            "min_width": null,
            "object_fit": null,
            "object_position": null,
            "order": null,
            "overflow": null,
            "overflow_x": null,
            "overflow_y": null,
            "padding": null,
            "right": null,
            "top": null,
            "visibility": null,
            "width": null
          }
        },
        "10894baa6ddd43238122b1db3ff5459a": {
          "model_module": "@jupyter-widgets/controls",
          "model_name": "ProgressStyleModel",
          "model_module_version": "1.5.0",
          "state": {
            "_model_module": "@jupyter-widgets/controls",
            "_model_module_version": "1.5.0",
            "_model_name": "ProgressStyleModel",
            "_view_count": null,
            "_view_module": "@jupyter-widgets/base",
            "_view_module_version": "1.2.0",
            "_view_name": "StyleView",
            "bar_color": null,
            "description_width": ""
          }
        }
      }
    }
  },
  "nbformat": 4,
  "nbformat_minor": 0
}